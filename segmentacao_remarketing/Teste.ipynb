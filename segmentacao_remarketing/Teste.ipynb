{
 "cells": [
  {
   "cell_type": "code",
   "execution_count": 1,
   "metadata": {},
   "outputs": [
    {
     "name": "stderr",
     "output_type": "stream",
     "text": [
      "c:\\Users\\pedro\\Projetos_Python\\segmentacao_remarketing\\segmentacao_remarketing\\seg_mkt\\lib\\site-packages\\google\\cloud\\bigquery\\table.py:1933: UserWarning: BigQuery Storage module not found, fetch data with the REST endpoint instead.\n",
      "  warnings.warn(\n"
     ]
    }
   ],
   "source": [
    "import os\n",
    "from google.cloud import bigquery\n",
    "import pandas as pd\n",
    "import hashlib\n",
    "import random\n",
    "\n",
    "os.environ['GOOGLE_APPLICATION_CREDENTIALS'] = 'credentials.json'\n",
    "\n",
    "client = bigquery.Client()\n",
    "\n",
    "query = \"\"\"\n",
    "    WITH eventos_agg AS (\n",
    "      SELECT\n",
    "        user_pseudo_id,\n",
    "        COUNTIF(event_name = \"purchase\") AS n_compras,\n",
    "        COUNTIF(event_name = \"add_to_cart\") AS n_adds,\n",
    "        COUNTIF(event_name = \"view_item\") AS n_views,\n",
    "        SUM(IFNULL(revenue, 0)) AS total_receita,\n",
    "        COUNT(DISTINCT event_date) AS dias_ativos,\n",
    "        APPROX_TOP_COUNT(item_category, 1)[OFFSET(0)].value AS top_category\n",
    "      FROM (\n",
    "        SELECT\n",
    "          user_pseudo_id,\n",
    "          event_name,\n",
    "          event_date,\n",
    "          (SELECT value.double_value FROM UNNEST(event_params) WHERE key = \"value\") AS revenue,\n",
    "          (SELECT value.string_value FROM UNNEST(event_params) WHERE key = \"item_category\") AS item_category\n",
    "        FROM `bigquery-public-data.ga4_obfuscated_sample_ecommerce.events_*`\n",
    "        WHERE _TABLE_SUFFIX BETWEEN '20201101' AND '20210131'\n",
    "          AND event_name IN (\"purchase\", \"view_item\", \"add_to_cart\")\n",
    "      )\n",
    "      GROUP BY user_pseudo_id\n",
    "    )\n",
    "    SELECT * FROM eventos_agg\n",
    "    \"\"\"\n",
    "\n",
    "df = client.query(query).to_dataframe()"
   ]
  },
  {
   "cell_type": "code",
   "execution_count": 2,
   "metadata": {},
   "outputs": [
    {
     "name": "stdout",
     "output_type": "stream",
     "text": [
      "<class 'pandas.core.frame.DataFrame'>\n",
      "RangeIndex: 61284 entries, 0 to 61283\n",
      "Data columns (total 7 columns):\n",
      " #   Column          Non-Null Count  Dtype  \n",
      "---  ------          --------------  -----  \n",
      " 0   user_pseudo_id  61284 non-null  object \n",
      " 1   n_compras       61284 non-null  Int64  \n",
      " 2   n_adds          61284 non-null  Int64  \n",
      " 3   n_views         61284 non-null  Int64  \n",
      " 4   total_receita   61284 non-null  float64\n",
      " 5   dias_ativos     61284 non-null  Int64  \n",
      " 6   top_category    0 non-null      object \n",
      "dtypes: Int64(4), float64(1), object(2)\n",
      "memory usage: 3.5+ MB\n"
     ]
    }
   ],
   "source": [
    "df.info()"
   ]
  },
  {
   "cell_type": "code",
   "execution_count": 3,
   "metadata": {},
   "outputs": [
    {
     "data": {
      "text/html": [
       "<div>\n",
       "<style scoped>\n",
       "    .dataframe tbody tr th:only-of-type {\n",
       "        vertical-align: middle;\n",
       "    }\n",
       "\n",
       "    .dataframe tbody tr th {\n",
       "        vertical-align: top;\n",
       "    }\n",
       "\n",
       "    .dataframe thead th {\n",
       "        text-align: right;\n",
       "    }\n",
       "</style>\n",
       "<table border=\"1\" class=\"dataframe\">\n",
       "  <thead>\n",
       "    <tr style=\"text-align: right;\">\n",
       "      <th></th>\n",
       "      <th>user_pseudo_id</th>\n",
       "      <th>n_compras</th>\n",
       "      <th>n_adds</th>\n",
       "      <th>n_views</th>\n",
       "      <th>total_receita</th>\n",
       "      <th>dias_ativos</th>\n",
       "      <th>top_category</th>\n",
       "    </tr>\n",
       "  </thead>\n",
       "  <tbody>\n",
       "    <tr>\n",
       "      <th>0</th>\n",
       "      <td>2291182.3518179459</td>\n",
       "      <td>2</td>\n",
       "      <td>3</td>\n",
       "      <td>28</td>\n",
       "      <td>20.80</td>\n",
       "      <td>4</td>\n",
       "      <td>None</td>\n",
       "    </tr>\n",
       "    <tr>\n",
       "      <th>1</th>\n",
       "      <td>55916158.1192891856</td>\n",
       "      <td>1</td>\n",
       "      <td>9</td>\n",
       "      <td>29</td>\n",
       "      <td>0.00</td>\n",
       "      <td>1</td>\n",
       "      <td>None</td>\n",
       "    </tr>\n",
       "    <tr>\n",
       "      <th>2</th>\n",
       "      <td>5572774684.5698209837</td>\n",
       "      <td>0</td>\n",
       "      <td>3</td>\n",
       "      <td>28</td>\n",
       "      <td>0.00</td>\n",
       "      <td>8</td>\n",
       "      <td>None</td>\n",
       "    </tr>\n",
       "    <tr>\n",
       "      <th>3</th>\n",
       "      <td>3680421.4213771360</td>\n",
       "      <td>4</td>\n",
       "      <td>26</td>\n",
       "      <td>157</td>\n",
       "      <td>92.64</td>\n",
       "      <td>5</td>\n",
       "      <td>None</td>\n",
       "    </tr>\n",
       "    <tr>\n",
       "      <th>4</th>\n",
       "      <td>5318101.4795757171</td>\n",
       "      <td>1</td>\n",
       "      <td>10</td>\n",
       "      <td>18</td>\n",
       "      <td>0.00</td>\n",
       "      <td>2</td>\n",
       "      <td>None</td>\n",
       "    </tr>\n",
       "  </tbody>\n",
       "</table>\n",
       "</div>"
      ],
      "text/plain": [
       "          user_pseudo_id  n_compras  n_adds  n_views  total_receita  \\\n",
       "0     2291182.3518179459          2       3       28          20.80   \n",
       "1    55916158.1192891856          1       9       29           0.00   \n",
       "2  5572774684.5698209837          0       3       28           0.00   \n",
       "3     3680421.4213771360          4      26      157          92.64   \n",
       "4     5318101.4795757171          1      10       18           0.00   \n",
       "\n",
       "   dias_ativos top_category  \n",
       "0            4         None  \n",
       "1            1         None  \n",
       "2            8         None  \n",
       "3            5         None  \n",
       "4            2         None  "
      ]
     },
     "execution_count": 3,
     "metadata": {},
     "output_type": "execute_result"
    }
   ],
   "source": [
    "df.head()"
   ]
  },
  {
   "cell_type": "code",
   "execution_count": null,
   "metadata": {},
   "outputs": [],
   "source": []
  }
 ],
 "metadata": {
  "kernelspec": {
   "display_name": "Python 3.9.18 ('seg_mkt': venv)",
   "language": "python",
   "name": "python3"
  },
  "language_info": {
   "codemirror_mode": {
    "name": "ipython",
    "version": 3
   },
   "file_extension": ".py",
   "mimetype": "text/x-python",
   "name": "python",
   "nbconvert_exporter": "python",
   "pygments_lexer": "ipython3",
   "version": "3.9.18"
  },
  "orig_nbformat": 4,
  "vscode": {
   "interpreter": {
    "hash": "5489741309eff3747a7e7fb8385c9d380aa7e2965f35cbd710cdf22dcc513c63"
   }
  }
 },
 "nbformat": 4,
 "nbformat_minor": 2
}
